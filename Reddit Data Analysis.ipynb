{
 "cells": [
  {
   "cell_type": "code",
   "execution_count": 2,
   "metadata": {},
   "outputs": [],
   "source": [
    "# Importing libraries\n",
    "\n",
    "import requests\n",
    "from datetime import datetime\n",
    "import traceback\n",
    "import json\n",
    "import sys\n",
    "import praw\n",
    "import pandas as pd\n",
    "import time"
   ]
  },
  {
   "cell_type": "code",
   "execution_count": 2,
   "metadata": {},
   "outputs": [
    {
     "name": "stdout",
     "output_type": "stream",
     "text": [
      "1577817000\n",
      "1583001000\n",
      "Saved 100 submissions through 2020-02-23\n",
      "Saved 200 submissions through 2020-02-16\n",
      "Saved 300 submissions through 2020-02-09\n",
      "Saved 400 submissions through 2020-02-01\n",
      "Saved 500 submissions through 2020-01-27\n",
      "Saved 600 submissions through 2020-01-21\n",
      "Saved 700 submissions through 2020-01-14\n",
      "Saved 800 submissions through 2020-01-07\n",
      "Saved 900 submissions through 2020-01-01\n",
      "Saved 903 submissions through 2020-01-01\n",
      "Saved 903 submissions\n"
     ]
    }
   ],
   "source": [
    "# Scraping data for subreddit \"r/emacs\" [01/01/2020 - 03/01/2020]\n",
    "\n",
    "def downloadSubreddit(filename, subreddit, start_time, end_time):\n",
    "    submissions = []\n",
    "    count = 0\n",
    "    submissions_with_metrics = []\n",
    "    previous_epoch = int(start_time.timestamp())\n",
    "    after_epoch = int(end_time.timestamp())\n",
    "    print(after_epoch)\n",
    "    print(previous_epoch)\n",
    "    \n",
    "    \n",
    "    url = 'https://api.pushshift.io/reddit/submission/search/?subreddit={}&after={}&before={}&sort=desc&limit=1000'\n",
    "    reddit = praw.Reddit(client_id='_87SCviJLvIICA', client_secret='yio0cnfuq97lMDQRPfvXSfje-O-z_Q', user_agent='redditdataanalysis')\n",
    "    \n",
    "    while True:\n",
    "        new_url = url.format(subreddit, after_epoch, previous_epoch)\n",
    "        json_text = requests.get(new_url, headers={'User-Agent': \"Post downloader by /u/nsajnani\"})\n",
    "        time.sleep(1)  # pushshift has a rate limit, if we send requests too fast it will start returning error messages\n",
    "        try:\n",
    "            json_data = json_text.json()\n",
    "        except json.decoder.JSONDecodeError:\n",
    "            time.sleep(1)\n",
    "            continue\n",
    "\n",
    "        if 'data' not in json_data:\n",
    "            break\n",
    "        objects = json_data['data']\n",
    "        if len(objects) == 0:\n",
    "            break\n",
    "\n",
    "        for object in objects:\n",
    "            previous_epoch = object['created_utc'] - 1\n",
    "            count += 1\n",
    "            praw_submission = reddit.submission(id=object['id'])\n",
    "            submissions_with_metrics.append([praw_submission.author, praw_submission.title, praw_submission.upvote_ratio, praw_submission.is_original_content, praw_submission.edited, praw_submission.score, praw_submission.id, praw_submission.subreddit, praw_submission.url, praw_submission.num_comments, praw_submission.selftext, praw_submission.created])\n",
    "\n",
    "\n",
    "        print(\"Saved {} submissions through {}\".format(count, datetime.fromtimestamp(previous_epoch).strftime(\"%Y-%m-%d\")))\n",
    "\n",
    "    print(f\"Saved {count} submissions\")\n",
    "    submissions_with_metrics = pd.DataFrame(submissions_with_metrics,columns=['author','title', 'upvote_ratio','is_original_content','edited','score', 'id', 'subreddit', 'url', 'num_comments', 'body', 'created'])\n",
    "    submissions_with_metrics.to_csv(filename, index=False)\n",
    "\n",
    "\n",
    "downloadSubreddit(\"submissions_with_metrics_emacs.csv\", \"emacs\", datetime(2020, 3, 1), datetime(2020, 1, 1))\n"
   ]
  },
  {
   "cell_type": "code",
   "execution_count": 3,
   "metadata": {},
   "outputs": [
    {
     "name": "stdout",
     "output_type": "stream",
     "text": [
      "1577817000\n",
      "1583001000\n",
      "Saved 100 submissions through 2020-02-22\n",
      "Saved 200 submissions through 2020-02-14\n",
      "Saved 300 submissions through 2020-02-06\n",
      "Saved 400 submissions through 2020-01-28\n",
      "Saved 500 submissions through 2020-01-21\n",
      "Saved 600 submissions through 2020-01-13\n",
      "Saved 700 submissions through 2020-01-04\n",
      "Saved 733 submissions through 2020-01-01\n",
      "Saved 733 submissions\n"
     ]
    }
   ],
   "source": [
    "# Scraping data for subreddit \"r/vim\" [01/01/2020 - 03/01/2020]\n",
    "\n",
    "def downloadSubreddit(filename, subreddit, start_time, end_time):\n",
    "    submissions = []\n",
    "    count = 0\n",
    "    submissions_with_metrics = []\n",
    "    previous_epoch = int(start_time.timestamp())\n",
    "    after_epoch = int(end_time.timestamp())\n",
    "    print(after_epoch)\n",
    "    print(previous_epoch)\n",
    "    \n",
    "    \n",
    "    url = 'https://api.pushshift.io/reddit/submission/search/?subreddit={}&after={}&before={}&sort=desc&limit=1000'\n",
    "    reddit = praw.Reddit(client_id='_87SCviJLvIICA', client_secret='yio0cnfuq97lMDQRPfvXSfje-O-z_Q', user_agent='redditdataanalysis')\n",
    "    \n",
    "    while True:\n",
    "        new_url = url.format(subreddit, after_epoch, previous_epoch)\n",
    "        json_text = requests.get(new_url, headers={'User-Agent': \"Post downloader by /u/nsajnani\"})\n",
    "        time.sleep(1)  # pushshift has a rate limit, if we send requests too fast it will start returning error messages\n",
    "        try:\n",
    "            json_data = json_text.json()\n",
    "        except json.decoder.JSONDecodeError:\n",
    "            time.sleep(1)\n",
    "            continue\n",
    "\n",
    "        if 'data' not in json_data:\n",
    "            break\n",
    "        objects = json_data['data']\n",
    "        if len(objects) == 0:\n",
    "            break\n",
    "\n",
    "        for object in objects:\n",
    "            previous_epoch = object['created_utc'] - 1\n",
    "            count += 1\n",
    "            praw_submission = reddit.submission(id=object['id'])\n",
    "            submissions_with_metrics.append([praw_submission.author, praw_submission.title, praw_submission.upvote_ratio, praw_submission.is_original_content, praw_submission.edited, praw_submission.score, praw_submission.id, praw_submission.subreddit, praw_submission.url, praw_submission.num_comments, praw_submission.selftext, praw_submission.created])\n",
    "\n",
    "\n",
    "        print(\"Saved {} submissions through {}\".format(count, datetime.fromtimestamp(previous_epoch).strftime(\"%Y-%m-%d\")))\n",
    "\n",
    "    print(f\"Saved {count} submissions\")\n",
    "    submissions_with_metrics = pd.DataFrame(submissions_with_metrics,columns=['author','title', 'upvote_ratio','is_original_content','edited','score', 'id', 'subreddit', 'url', 'num_comments', 'body', 'created'])\n",
    "    submissions_with_metrics.to_csv(filename, index=False)\n",
    "\n",
    "\n",
    "downloadSubreddit(\"submissions_with_metrics_vim.csv\", \"vim\", datetime(2020, 3, 1), datetime(2020, 1, 1))\n"
   ]
  },
  {
   "cell_type": "code",
   "execution_count": 3,
   "metadata": {},
   "outputs": [],
   "source": [
    "# Reading CSV files into dataframes\n",
    "\n",
    "df_emacs = pd.read_csv(\"submissions_with_metrics_emacs.csv\") \n",
    "df_vim = pd.read_csv(\"submissions_with_metrics_vim.csv\")"
   ]
  },
  {
   "cell_type": "code",
   "execution_count": 4,
   "metadata": {},
   "outputs": [
    {
     "name": "stdout",
     "output_type": "stream",
     "text": [
      "Data for subreddit 'emacs'\n"
     ]
    },
    {
     "data": {
      "text/html": [
       "<div>\n",
       "<style scoped>\n",
       "    .dataframe tbody tr th:only-of-type {\n",
       "        vertical-align: middle;\n",
       "    }\n",
       "\n",
       "    .dataframe tbody tr th {\n",
       "        vertical-align: top;\n",
       "    }\n",
       "\n",
       "    .dataframe thead th {\n",
       "        text-align: right;\n",
       "    }\n",
       "</style>\n",
       "<table border=\"1\" class=\"dataframe\">\n",
       "  <thead>\n",
       "    <tr style=\"text-align: right;\">\n",
       "      <th></th>\n",
       "      <th>author</th>\n",
       "      <th>title</th>\n",
       "      <th>upvote_ratio</th>\n",
       "      <th>is_original_content</th>\n",
       "      <th>edited</th>\n",
       "      <th>score</th>\n",
       "      <th>id</th>\n",
       "      <th>subreddit</th>\n",
       "      <th>url</th>\n",
       "      <th>num_comments</th>\n",
       "      <th>body</th>\n",
       "      <th>created</th>\n",
       "    </tr>\n",
       "  </thead>\n",
       "  <tbody>\n",
       "    <tr>\n",
       "      <th>0</th>\n",
       "      <td>NaN</td>\n",
       "      <td>Emacs 27, org mode undesired pair for &lt;.</td>\n",
       "      <td>1.00</td>\n",
       "      <td>False</td>\n",
       "      <td>False</td>\n",
       "      <td>14</td>\n",
       "      <td>fbggoy</td>\n",
       "      <td>emacs</td>\n",
       "      <td>https://www.reddit.com/r/emacs/comments/fbggoy...</td>\n",
       "      <td>11</td>\n",
       "      <td>[deleted]</td>\n",
       "      <td>1.583029e+09</td>\n",
       "    </tr>\n",
       "    <tr>\n",
       "      <th>1</th>\n",
       "      <td>lorawpreisserwp</td>\n",
       "      <td>New Videos</td>\n",
       "      <td>1.00</td>\n",
       "      <td>False</td>\n",
       "      <td>False</td>\n",
       "      <td>1</td>\n",
       "      <td>fbe0ps</td>\n",
       "      <td>emacs</td>\n",
       "      <td>https://tube-casino.com/</td>\n",
       "      <td>0</td>\n",
       "      <td>NaN</td>\n",
       "      <td>1.583019e+09</td>\n",
       "    </tr>\n",
       "    <tr>\n",
       "      <th>2</th>\n",
       "      <td>bhanuvrat</td>\n",
       "      <td>Can mu server be configured to use more than o...</td>\n",
       "      <td>0.91</td>\n",
       "      <td>False</td>\n",
       "      <td>False</td>\n",
       "      <td>9</td>\n",
       "      <td>fbd8rt</td>\n",
       "      <td>emacs</td>\n",
       "      <td>https://www.reddit.com/r/emacs/comments/fbd8rt...</td>\n",
       "      <td>11</td>\n",
       "      <td>Hi \\n\\nI found mu4e struggling to search throu...</td>\n",
       "      <td>1.583015e+09</td>\n",
       "    </tr>\n",
       "    <tr>\n",
       "      <th>3</th>\n",
       "      <td>NaN</td>\n",
       "      <td>[REQUEST] Can anyone port Rouge to Emacs?</td>\n",
       "      <td>0.56</td>\n",
       "      <td>False</td>\n",
       "      <td>False</td>\n",
       "      <td>1</td>\n",
       "      <td>fbbooz</td>\n",
       "      <td>emacs</td>\n",
       "      <td>https://www.reddit.com/r/emacs/comments/fbbooz...</td>\n",
       "      <td>5</td>\n",
       "      <td>&amp;#x200B;\\n\\nhttps://preview.redd.it/wqk50urotu...</td>\n",
       "      <td>1.583007e+09</td>\n",
       "    </tr>\n",
       "    <tr>\n",
       "      <th>4</th>\n",
       "      <td>fctorial</td>\n",
       "      <td>Smooth scrolling in emacs</td>\n",
       "      <td>0.87</td>\n",
       "      <td>False</td>\n",
       "      <td>False</td>\n",
       "      <td>19</td>\n",
       "      <td>fbb83r</td>\n",
       "      <td>emacs</td>\n",
       "      <td>https://www.reddit.com/r/emacs/comments/fbb83r...</td>\n",
       "      <td>2</td>\n",
       "      <td>Is there any way to have emacs scroll text buf...</td>\n",
       "      <td>1.583004e+09</td>\n",
       "    </tr>\n",
       "  </tbody>\n",
       "</table>\n",
       "</div>"
      ],
      "text/plain": [
       "            author                                              title  \\\n",
       "0              NaN           Emacs 27, org mode undesired pair for <.   \n",
       "1  lorawpreisserwp                                         New Videos   \n",
       "2        bhanuvrat  Can mu server be configured to use more than o...   \n",
       "3              NaN          [REQUEST] Can anyone port Rouge to Emacs?   \n",
       "4         fctorial                          Smooth scrolling in emacs   \n",
       "\n",
       "   upvote_ratio  is_original_content edited  score      id subreddit  \\\n",
       "0          1.00                False  False     14  fbggoy     emacs   \n",
       "1          1.00                False  False      1  fbe0ps     emacs   \n",
       "2          0.91                False  False      9  fbd8rt     emacs   \n",
       "3          0.56                False  False      1  fbbooz     emacs   \n",
       "4          0.87                False  False     19  fbb83r     emacs   \n",
       "\n",
       "                                                 url  num_comments  \\\n",
       "0  https://www.reddit.com/r/emacs/comments/fbggoy...            11   \n",
       "1                           https://tube-casino.com/             0   \n",
       "2  https://www.reddit.com/r/emacs/comments/fbd8rt...            11   \n",
       "3  https://www.reddit.com/r/emacs/comments/fbbooz...             5   \n",
       "4  https://www.reddit.com/r/emacs/comments/fbb83r...             2   \n",
       "\n",
       "                                                body       created  \n",
       "0                                          [deleted]  1.583029e+09  \n",
       "1                                                NaN  1.583019e+09  \n",
       "2  Hi \\n\\nI found mu4e struggling to search throu...  1.583015e+09  \n",
       "3  &#x200B;\\n\\nhttps://preview.redd.it/wqk50urotu...  1.583007e+09  \n",
       "4  Is there any way to have emacs scroll text buf...  1.583004e+09  "
      ]
     },
     "execution_count": 4,
     "metadata": {},
     "output_type": "execute_result"
    }
   ],
   "source": [
    "print(\"Data for subreddit 'emacs'\")\n",
    "df_emacs.head()"
   ]
  },
  {
   "cell_type": "code",
   "execution_count": 5,
   "metadata": {},
   "outputs": [
    {
     "name": "stdout",
     "output_type": "stream",
     "text": [
      "Data for subreddit 'vim'\n"
     ]
    },
    {
     "data": {
      "text/html": [
       "<div>\n",
       "<style scoped>\n",
       "    .dataframe tbody tr th:only-of-type {\n",
       "        vertical-align: middle;\n",
       "    }\n",
       "\n",
       "    .dataframe tbody tr th {\n",
       "        vertical-align: top;\n",
       "    }\n",
       "\n",
       "    .dataframe thead th {\n",
       "        text-align: right;\n",
       "    }\n",
       "</style>\n",
       "<table border=\"1\" class=\"dataframe\">\n",
       "  <thead>\n",
       "    <tr style=\"text-align: right;\">\n",
       "      <th></th>\n",
       "      <th>author</th>\n",
       "      <th>title</th>\n",
       "      <th>upvote_ratio</th>\n",
       "      <th>is_original_content</th>\n",
       "      <th>edited</th>\n",
       "      <th>score</th>\n",
       "      <th>id</th>\n",
       "      <th>subreddit</th>\n",
       "      <th>url</th>\n",
       "      <th>num_comments</th>\n",
       "      <th>body</th>\n",
       "      <th>created</th>\n",
       "    </tr>\n",
       "  </thead>\n",
       "  <tbody>\n",
       "    <tr>\n",
       "      <th>0</th>\n",
       "      <td>dog_superiority</td>\n",
       "      <td>Menu for selecting buffer?</td>\n",
       "      <td>0.86</td>\n",
       "      <td>False</td>\n",
       "      <td>False</td>\n",
       "      <td>5</td>\n",
       "      <td>fbdbja</td>\n",
       "      <td>vim</td>\n",
       "      <td>https://www.reddit.com/r/vim/comments/fbdbja/m...</td>\n",
       "      <td>11</td>\n",
       "      <td>I thought I was able to do this in the past, b...</td>\n",
       "      <td>1.583016e+09</td>\n",
       "    </tr>\n",
       "    <tr>\n",
       "      <th>1</th>\n",
       "      <td>axvr</td>\n",
       "      <td>Zepl.vim: A lightweight REPL integration plugi...</td>\n",
       "      <td>0.93</td>\n",
       "      <td>False</td>\n",
       "      <td>1583021012.0</td>\n",
       "      <td>53</td>\n",
       "      <td>fbc6l1</td>\n",
       "      <td>vim</td>\n",
       "      <td>https://www.reddit.com/r/vim/comments/fbc6l1/z...</td>\n",
       "      <td>21</td>\n",
       "      <td>Over the past couple of weeks, I've been worki...</td>\n",
       "      <td>1.583010e+09</td>\n",
       "    </tr>\n",
       "    <tr>\n",
       "      <th>2</th>\n",
       "      <td>NaN</td>\n",
       "      <td>Zepl.vim: A lightweight REPL integration plugi...</td>\n",
       "      <td>1.00</td>\n",
       "      <td>False</td>\n",
       "      <td>False</td>\n",
       "      <td>1</td>\n",
       "      <td>fbc69p</td>\n",
       "      <td>vim</td>\n",
       "      <td>https://www.reddit.com/r/vim/comments/fbc69p/z...</td>\n",
       "      <td>0</td>\n",
       "      <td>[deleted]</td>\n",
       "      <td>1.583010e+09</td>\n",
       "    </tr>\n",
       "    <tr>\n",
       "      <th>3</th>\n",
       "      <td>NaN</td>\n",
       "      <td>Zepl.vim: A lightweight REPL integration plugi...</td>\n",
       "      <td>1.00</td>\n",
       "      <td>False</td>\n",
       "      <td>False</td>\n",
       "      <td>1</td>\n",
       "      <td>fbc4l6</td>\n",
       "      <td>vim</td>\n",
       "      <td>https://www.reddit.com/r/vim/comments/fbc4l6/z...</td>\n",
       "      <td>0</td>\n",
       "      <td>[deleted]</td>\n",
       "      <td>1.583010e+09</td>\n",
       "    </tr>\n",
       "    <tr>\n",
       "      <th>4</th>\n",
       "      <td>Segeljaktus</td>\n",
       "      <td>vim-isotope 2.0 - Insert and attach special ch...</td>\n",
       "      <td>0.96</td>\n",
       "      <td>False</td>\n",
       "      <td>1582986672.0</td>\n",
       "      <td>67</td>\n",
       "      <td>fbbna6</td>\n",
       "      <td>vim</td>\n",
       "      <td>https://www.reddit.com/r/vim/comments/fbbna6/v...</td>\n",
       "      <td>9</td>\n",
       "      <td>&amp;#x200B;\\n\\nhttps://preview.redd.it/i23jcg0iiv...</td>\n",
       "      <td>1.583007e+09</td>\n",
       "    </tr>\n",
       "  </tbody>\n",
       "</table>\n",
       "</div>"
      ],
      "text/plain": [
       "            author                                              title  \\\n",
       "0  dog_superiority                         Menu for selecting buffer?   \n",
       "1             axvr  Zepl.vim: A lightweight REPL integration plugi...   \n",
       "2              NaN  Zepl.vim: A lightweight REPL integration plugi...   \n",
       "3              NaN  Zepl.vim: A lightweight REPL integration plugi...   \n",
       "4      Segeljaktus  vim-isotope 2.0 - Insert and attach special ch...   \n",
       "\n",
       "   upvote_ratio  is_original_content        edited  score      id subreddit  \\\n",
       "0          0.86                False         False      5  fbdbja       vim   \n",
       "1          0.93                False  1583021012.0     53  fbc6l1       vim   \n",
       "2          1.00                False         False      1  fbc69p       vim   \n",
       "3          1.00                False         False      1  fbc4l6       vim   \n",
       "4          0.96                False  1582986672.0     67  fbbna6       vim   \n",
       "\n",
       "                                                 url  num_comments  \\\n",
       "0  https://www.reddit.com/r/vim/comments/fbdbja/m...            11   \n",
       "1  https://www.reddit.com/r/vim/comments/fbc6l1/z...            21   \n",
       "2  https://www.reddit.com/r/vim/comments/fbc69p/z...             0   \n",
       "3  https://www.reddit.com/r/vim/comments/fbc4l6/z...             0   \n",
       "4  https://www.reddit.com/r/vim/comments/fbbna6/v...             9   \n",
       "\n",
       "                                                body       created  \n",
       "0  I thought I was able to do this in the past, b...  1.583016e+09  \n",
       "1  Over the past couple of weeks, I've been worki...  1.583010e+09  \n",
       "2                                          [deleted]  1.583010e+09  \n",
       "3                                          [deleted]  1.583010e+09  \n",
       "4  &#x200B;\\n\\nhttps://preview.redd.it/i23jcg0iiv...  1.583007e+09  "
      ]
     },
     "execution_count": 5,
     "metadata": {},
     "output_type": "execute_result"
    }
   ],
   "source": [
    "print(\"Data for subreddit 'vim'\")\n",
    "df_vim.head()"
   ]
  },
  {
   "cell_type": "code",
   "execution_count": 6,
   "metadata": {},
   "outputs": [
    {
     "name": "stdout",
     "output_type": "stream",
     "text": [
      "Length of Data (emacs) : 903\n",
      "Length of Data (vim) : 733\n"
     ]
    },
    {
     "data": {
      "image/png": "[encoded data removed]",
      "text/plain": [
       "<Figure size 288x360 with 1 Axes>"
      ]
     },
     "metadata": {
      "needs_background": "light"
     },
     "output_type": "display_data"
    }
   ],
   "source": [
    "print(\"Length of Data (emacs) : \" + str(len(df_emacs)))\n",
    "print(\"Length of Data (vim) : \" + str(len(df_vim)))\n",
    "\n",
    "data = [['emacs', len(df_emacs)], ['vim', len(df_vim)]] \n",
    "df = pd.DataFrame(data, columns = ['subreddit', 'data_count'])\n",
    "\n",
    "# Plotting number of posts in subreddits emacs and vim \n",
    "\n",
    "from matplotlib import pyplot as plt\n",
    "import seaborn as sns\n",
    "\n",
    "plt.figure(figsize=(4,5))\n",
    "ax = sns.barplot(x=\"subreddit\", y=\"data_count\", data=df, palette=\"deep\").set_title(\"Subreddits vs Number of Posts\")"
   ]
  },
  {
   "cell_type": "code",
   "execution_count": 7,
   "metadata": {},
   "outputs": [
    {
     "name": "stdout",
     "output_type": "stream",
     "text": [
      "Number of Distinct Authors in 'emacs' : 470\n",
      "Number of Distinct Authors in 'vim'   : 437\n"
     ]
    },
    {
     "data": {
      "image/png": "[encoded data removed]",
      "text/plain": [
       "<Figure size 288x360 with 1 Axes>"
      ]
     },
     "metadata": {
      "needs_background": "light"
     },
     "output_type": "display_data"
    }
   ],
   "source": [
    "print(\"Number of Distinct Authors in 'emacs' : \" + str(df_emacs['author'].nunique()))\n",
    "print(\"Number of Distinct Authors in 'vim'   : \" + str(df_vim['author'].nunique()))\n",
    "\n",
    "data = [['emacs', df_emacs['author'].nunique()], ['vim', df_vim['author'].nunique()]] \n",
    "df = pd.DataFrame(data, columns = ['subreddit', 'Unique Authors'])\n",
    "\n",
    "# Plotting number of posts in subreddits emacs and vim \n",
    "\n",
    "from matplotlib import pyplot as plt\n",
    "import seaborn as sns\n",
    "\n",
    "plt.figure(figsize=(4,5))\n",
    "ax = sns.barplot(x=\"subreddit\", y=\"Unique Authors\", data=df).set_title(\"Subreddits vs Number of Unique Authors\")"
   ]
  },
  {
   "cell_type": "code",
   "execution_count": 22,
   "metadata": {},
   "outputs": [
    {
     "name": "stdout",
     "output_type": "stream",
     "text": [
      "Highest number of comments on emacs posts : 170\n"
     ]
    },
    {
     "data": {
      "text/plain": [
       "Text(0.5, 1.0, 'EMACS - Distribution of comments')"
      ]
     },
     "execution_count": 22,
     "metadata": {},
     "output_type": "execute_result"
    },
    {
     "data": {
      "image/png": "[encoded data removed]",
      "text/plain": [
       "<Figure size 1080x360 with 1 Axes>"
      ]
     },
     "metadata": {
      "needs_background": "light"
     },
     "output_type": "display_data"
    }
   ],
   "source": [
    "# Comments distribution in emacs subreddit\n",
    "\n",
    "print(\"Highest number of comments on emacs posts : \" + str(max(df_emacs['num_comments'])))\n",
    "\n",
    "plt.figure(figsize=(15,5))\n",
    "sns.histplot(data=df_emacs, x=\"num_comments\").set_title(\"EMACS - Distribution of comments\")"
   ]
  },
  {
   "cell_type": "code",
   "execution_count": 33,
   "metadata": {},
   "outputs": [
    {
     "name": "stdout",
     "output_type": "stream",
     "text": [
      "Highest number of comments on vim Posts : 195\n"
     ]
    },
    {
     "data": {
      "text/plain": [
       "Text(0.5, 1.0, 'VIM - Distribution of comments')"
      ]
     },
     "execution_count": 33,
     "metadata": {},
     "output_type": "execute_result"
    },
    {
     "data": {
      "image/png": "[encoded data removed]",
      "text/plain": [
       "<Figure size 1080x360 with 1 Axes>"
      ]
     },
     "metadata": {
      "needs_background": "light"
     },
     "output_type": "display_data"
    }
   ],
   "source": [
    "# Comments distribution in vim subreddit\n",
    "\n",
    "import numpy as np\n",
    "\n",
    "print(\"Highest number of comments on vim Posts : \" + str(max(df_vim['num_comments'])))\n",
    "\n",
    "plt.figure(figsize=(15,5))\n",
    "sns.histplot(data=df_vim, x=\"num_comments\").set_title(\"VIM - Distribution of comments\")"
   ]
  },
  {
   "cell_type": "code",
   "execution_count": null,
   "metadata": {},
   "outputs": [],
   "source": []
  }
 ],
 "metadata": {
  "kernelspec": {
   "display_name": "Python 3",
   "language": "python",
   "name": "python3"
  },
  "language_info": {
   "codemirror_mode": {
    "name": "ipython",
    "version": 3
   },
   "file_extension": ".py",
   "mimetype": "text/x-python",
   "name": "python",
   "nbconvert_exporter": "python",
   "pygments_lexer": "ipython3",
   "version": "3.8.3"
  }
 },
 "nbformat": 4,
 "nbformat_minor": 4
}
