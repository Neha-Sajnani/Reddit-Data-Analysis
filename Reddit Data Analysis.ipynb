{
 "cells": [
  {
   "cell_type": "code",
   "execution_count": 1,
   "metadata": {},
   "outputs": [],
   "source": [
    "# Importing libraries\n",
    "\n",
    "import requests\n",
    "from datetime import datetime\n",
    "import traceback\n",
    "import json\n",
    "import sys\n",
    "import praw\n",
    "import pandas as pd\n",
    "import numpy as np\n",
    "from matplotlib import pyplot as plt\n",
    "import seaborn as sns\n",
    "import time\n",
    "import arrow"
   ]
  },
  {
   "cell_type": "code",
   "execution_count": 2,
   "metadata": {},
   "outputs": [
    {
     "name": "stdout",
     "output_type": "stream",
     "text": [
      "1577817000\n",
      "1585593000\n",
      "Saved 100 submissions through 2020-03-24\n",
      "Saved 200 submissions through 2020-03-17\n",
      "Saved 300 submissions through 2020-03-09\n",
      "Saved 400 submissions through 2020-03-03\n",
      "Saved 500 submissions through 2020-02-24\n",
      "Saved 600 submissions through 2020-02-18\n",
      "Saved 700 submissions through 2020-02-10\n",
      "Saved 800 submissions through 2020-02-03\n",
      "Saved 900 submissions through 2020-01-28\n",
      "Saved 1000 submissions through 2020-01-22\n",
      "Saved 1100 submissions through 2020-01-16\n",
      "Saved 1200 submissions through 2020-01-09\n",
      "Saved 1300 submissions through 2020-01-03\n",
      "Saved 1330 submissions through 2020-01-01\n",
      "Saved 1330 submissions\n"
     ]
    }
   ],
   "source": [
    "# Scraping data for subreddit \"r/emacs\" [01/01/2020 - 03/31/2020]\n",
    "\n",
    "def downloadSubreddit(filename, subreddit, start_time, end_time):\n",
    "    submissions = []\n",
    "    count = 0\n",
    "    submissions_with_metrics = []\n",
    "    previous_epoch = int(start_time.timestamp())\n",
    "    after_epoch = int(end_time.timestamp())\n",
    "    print(after_epoch)\n",
    "    print(previous_epoch)\n",
    "    \n",
    "    \n",
    "    url = 'https://api.pushshift.io/reddit/submission/search/?subreddit={}&after={}&before={}&sort=desc&limit=1000'\n",
    "    reddit = praw.Reddit(client_id='_87SCviJLvIICA', client_secret='yio0cnfuq97lMDQRPfvXSfje-O-z_Q', user_agent='redditdataanalysis')\n",
    "    \n",
    "    while True:\n",
    "        new_url = url.format(subreddit, after_epoch, previous_epoch)\n",
    "        json_text = requests.get(new_url, headers={'User-Agent': \"Post downloader by /u/nsajnani\"})\n",
    "        time.sleep(1)  # pushshift has a rate limit, if we send requests too fast it will start returning error messages\n",
    "        try:\n",
    "            json_data = json_text.json()\n",
    "        except json.decoder.JSONDecodeError:\n",
    "            time.sleep(1)\n",
    "            continue\n",
    "\n",
    "        if 'data' not in json_data:\n",
    "            break\n",
    "        objects = json_data['data']\n",
    "        if len(objects) == 0:\n",
    "            break\n",
    "\n",
    "        for object in objects:\n",
    "            previous_epoch = object['created_utc'] - 1\n",
    "            count += 1\n",
    "            praw_submission = reddit.submission(id=object['id'])\n",
    "            submissions_with_metrics.append([praw_submission.author, praw_submission.title, praw_submission.upvote_ratio, praw_submission.is_original_content, praw_submission.edited, praw_submission.score, praw_submission.id, praw_submission.subreddit, praw_submission.url, praw_submission.num_comments, praw_submission.selftext, praw_submission.created])\n",
    "\n",
    "\n",
    "        print(\"Saved {} submissions through {}\".format(count, datetime.fromtimestamp(previous_epoch).strftime(\"%Y-%m-%d\")))\n",
    "\n",
    "    print(f\"Saved {count} submissions\")\n",
    "    submissions_with_metrics = pd.DataFrame(submissions_with_metrics,columns=['author','title', 'upvote_ratio','is_original_content','edited','score', 'id', 'subreddit', 'url', 'num_comments', 'body', 'created'])\n",
    "    submissions_with_metrics.to_csv(filename, index=False)\n",
    "\n",
    "\n",
    "downloadSubreddit(\"submissions_with_metrics_emacs.csv\", \"emacs\", datetime(2020, 3, 31), datetime(2020, 1, 1))\n"
   ]
  },
  {
   "cell_type": "code",
   "execution_count": 3,
   "metadata": {},
   "outputs": [
    {
     "name": "stdout",
     "output_type": "stream",
     "text": [
      "1577817000\n",
      "1585593000\n",
      "Saved 100 submissions through 2020-03-23\n",
      "Saved 200 submissions through 2020-03-15\n",
      "Saved 300 submissions through 2020-03-06\n",
      "Saved 400 submissions through 2020-02-27\n",
      "Saved 500 submissions through 2020-02-19\n",
      "Saved 600 submissions through 2020-02-11\n",
      "Saved 700 submissions through 2020-02-03\n",
      "Saved 800 submissions through 2020-01-25\n",
      "Saved 900 submissions through 2020-01-18\n",
      "Saved 1000 submissions through 2020-01-10\n",
      "Saved 1100 submissions through 2020-01-01\n",
      "Saved 1104 submissions through 2020-01-01\n",
      "Saved 1104 submissions\n"
     ]
    }
   ],
   "source": [
    "# Scraping data for subreddit \"r/vim\" [01/01/2020 - 03/31/2020]\n",
    "\n",
    "def downloadSubreddit(filename, subreddit, start_time, end_time):\n",
    "    submissions = []\n",
    "    count = 0\n",
    "    submissions_with_metrics = []\n",
    "    previous_epoch = int(start_time.timestamp())\n",
    "    after_epoch = int(end_time.timestamp())\n",
    "    print(after_epoch)\n",
    "    print(previous_epoch)\n",
    "    \n",
    "    \n",
    "    url = 'https://api.pushshift.io/reddit/submission/search/?subreddit={}&after={}&before={}&sort=desc&limit=1000'\n",
    "    reddit = praw.Reddit(client_id='_87SCviJLvIICA', client_secret='yio0cnfuq97lMDQRPfvXSfje-O-z_Q', user_agent='redditdataanalysis')\n",
    "    \n",
    "    while True:\n",
    "        new_url = url.format(subreddit, after_epoch, previous_epoch)\n",
    "        json_text = requests.get(new_url, headers={'User-Agent': \"Post downloader by /u/nsajnani\"})\n",
    "        time.sleep(1)  # pushshift has a rate limit, if we send requests too fast it will start returning error messages\n",
    "        try:\n",
    "            json_data = json_text.json()\n",
    "        except json.decoder.JSONDecodeError:\n",
    "            time.sleep(1)\n",
    "            continue\n",
    "\n",
    "        if 'data' not in json_data:\n",
    "            break\n",
    "        objects = json_data['data']\n",
    "        if len(objects) == 0:\n",
    "            break\n",
    "\n",
    "        for object in objects:\n",
    "            previous_epoch = object['created_utc'] - 1\n",
    "            count += 1\n",
    "            praw_submission = reddit.submission(id=object['id'])\n",
    "            submissions_with_metrics.append([praw_submission.author, praw_submission.title, praw_submission.upvote_ratio, praw_submission.is_original_content, praw_submission.edited, praw_submission.score, praw_submission.id, praw_submission.subreddit, praw_submission.url, praw_submission.num_comments, praw_submission.selftext, praw_submission.created])\n",
    "\n",
    "\n",
    "        print(\"Saved {} submissions through {}\".format(count, datetime.fromtimestamp(previous_epoch).strftime(\"%Y-%m-%d\")))\n",
    "\n",
    "    print(f\"Saved {count} submissions\")\n",
    "    submissions_with_metrics = pd.DataFrame(submissions_with_metrics,columns=['author','title', 'upvote_ratio','is_original_content','edited','score', 'id', 'subreddit', 'url', 'num_comments', 'body', 'created'])\n",
    "    submissions_with_metrics.to_csv(filename, index=False)\n",
    "\n",
    "\n",
    "downloadSubreddit(\"submissions_with_metrics_vim.csv\", \"vim\", datetime(2020, 3, 31), datetime(2020, 1, 1))\n"
   ]
  },
  {
   "cell_type": "code",
   "execution_count": 4,
   "metadata": {},
   "outputs": [],
   "source": [
    "# Reading CSV files into dataframes\n",
    "\n",
    "df_emacs = pd.read_csv(\"submissions_with_metrics_emacs.csv\") \n",
    "df_vim = pd.read_csv(\"submissions_with_metrics_vim.csv\")"
   ]
  },
  {
   "cell_type": "code",
   "execution_count": 5,
   "metadata": {},
   "outputs": [
    {
     "name": "stdout",
     "output_type": "stream",
     "text": [
      "Data for subreddit 'emacs'\n"
     ]
    },
    {
     "data": {
      "text/html": [
       "<div>\n",
       "<style scoped>\n",
       "    .dataframe tbody tr th:only-of-type {\n",
       "        vertical-align: middle;\n",
       "    }\n",
       "\n",
       "    .dataframe tbody tr th {\n",
       "        vertical-align: top;\n",
       "    }\n",
       "\n",
       "    .dataframe thead th {\n",
       "        text-align: right;\n",
       "    }\n",
       "</style>\n",
       "<table border=\"1\" class=\"dataframe\">\n",
       "  <thead>\n",
       "    <tr style=\"text-align: right;\">\n",
       "      <th></th>\n",
       "      <th>author</th>\n",
       "      <th>title</th>\n",
       "      <th>upvote_ratio</th>\n",
       "      <th>is_original_content</th>\n",
       "      <th>edited</th>\n",
       "      <th>score</th>\n",
       "      <th>id</th>\n",
       "      <th>subreddit</th>\n",
       "      <th>url</th>\n",
       "      <th>num_comments</th>\n",
       "      <th>body</th>\n",
       "      <th>created</th>\n",
       "    </tr>\n",
       "  </thead>\n",
       "  <tbody>\n",
       "    <tr>\n",
       "      <th>0</th>\n",
       "      <td>NaN</td>\n",
       "      <td>Is it possible to create vision boards on Emacs ?</td>\n",
       "      <td>1.00</td>\n",
       "      <td>False</td>\n",
       "      <td>False</td>\n",
       "      <td>12</td>\n",
       "      <td>frvy6n</td>\n",
       "      <td>emacs</td>\n",
       "      <td>https://www.reddit.com/r/emacs/comments/frvy6n...</td>\n",
       "      <td>12</td>\n",
       "      <td>[deleted]</td>\n",
       "      <td>1.585621e+09</td>\n",
       "    </tr>\n",
       "    <tr>\n",
       "      <th>1</th>\n",
       "      <td>Ayrat555</td>\n",
       "      <td>I wrote a post about org-habit that can be use...</td>\n",
       "      <td>0.96</td>\n",
       "      <td>False</td>\n",
       "      <td>False</td>\n",
       "      <td>20</td>\n",
       "      <td>frvtk3</td>\n",
       "      <td>emacs</td>\n",
       "      <td>https://www.badykov.com/common/2020/03/29/a-ma...</td>\n",
       "      <td>3</td>\n",
       "      <td>NaN</td>\n",
       "      <td>1.585620e+09</td>\n",
       "    </tr>\n",
       "    <tr>\n",
       "      <th>2</th>\n",
       "      <td>PriorOutcome</td>\n",
       "      <td>View Minecraft Worlds in Emacs</td>\n",
       "      <td>0.96</td>\n",
       "      <td>False</td>\n",
       "      <td>False</td>\n",
       "      <td>73</td>\n",
       "      <td>frvtjg</td>\n",
       "      <td>emacs</td>\n",
       "      <td>https://www.reddit.com/r/emacs/comments/frvtjg...</td>\n",
       "      <td>13</td>\n",
       "      <td>&amp;#x200B;\\n\\nhttps://preview.redd.it/y8w6lt7onu...</td>\n",
       "      <td>1.585620e+09</td>\n",
       "    </tr>\n",
       "    <tr>\n",
       "      <th>3</th>\n",
       "      <td>Hagge5</td>\n",
       "      <td>Getting rid of extraneous emacs bindings when ...</td>\n",
       "      <td>0.81</td>\n",
       "      <td>False</td>\n",
       "      <td>1585578458.0</td>\n",
       "      <td>6</td>\n",
       "      <td>frrny3</td>\n",
       "      <td>emacs</td>\n",
       "      <td>https://www.reddit.com/r/emacs/comments/frrny3...</td>\n",
       "      <td>18</td>\n",
       "      <td>Hi,\\n\\nI'm attempting to learn evil-mode with ...</td>\n",
       "      <td>1.585607e+09</td>\n",
       "    </tr>\n",
       "    <tr>\n",
       "      <th>4</th>\n",
       "      <td>FormerAct</td>\n",
       "      <td>Effort estimate of parent header from subheaders</td>\n",
       "      <td>1.00</td>\n",
       "      <td>False</td>\n",
       "      <td>False</td>\n",
       "      <td>2</td>\n",
       "      <td>frrnd8</td>\n",
       "      <td>emacs</td>\n",
       "      <td>https://www.reddit.com/r/emacs/comments/frrnd8...</td>\n",
       "      <td>2</td>\n",
       "      <td>I am getting crazy in order to get this... Do ...</td>\n",
       "      <td>1.585607e+09</td>\n",
       "    </tr>\n",
       "  </tbody>\n",
       "</table>\n",
       "</div>"
      ],
      "text/plain": [
       "         author                                              title  \\\n",
       "0           NaN  Is it possible to create vision boards on Emacs ?   \n",
       "1      Ayrat555  I wrote a post about org-habit that can be use...   \n",
       "2  PriorOutcome                     View Minecraft Worlds in Emacs   \n",
       "3        Hagge5  Getting rid of extraneous emacs bindings when ...   \n",
       "4     FormerAct   Effort estimate of parent header from subheaders   \n",
       "\n",
       "   upvote_ratio  is_original_content        edited  score      id subreddit  \\\n",
       "0          1.00                False         False     12  frvy6n     emacs   \n",
       "1          0.96                False         False     20  frvtk3     emacs   \n",
       "2          0.96                False         False     73  frvtjg     emacs   \n",
       "3          0.81                False  1585578458.0      6  frrny3     emacs   \n",
       "4          1.00                False         False      2  frrnd8     emacs   \n",
       "\n",
       "                                                 url  num_comments  \\\n",
       "0  https://www.reddit.com/r/emacs/comments/frvy6n...            12   \n",
       "1  https://www.badykov.com/common/2020/03/29/a-ma...             3   \n",
       "2  https://www.reddit.com/r/emacs/comments/frvtjg...            13   \n",
       "3  https://www.reddit.com/r/emacs/comments/frrny3...            18   \n",
       "4  https://www.reddit.com/r/emacs/comments/frrnd8...             2   \n",
       "\n",
       "                                                body       created  \n",
       "0                                          [deleted]  1.585621e+09  \n",
       "1                                                NaN  1.585620e+09  \n",
       "2  &#x200B;\\n\\nhttps://preview.redd.it/y8w6lt7onu...  1.585620e+09  \n",
       "3  Hi,\\n\\nI'm attempting to learn evil-mode with ...  1.585607e+09  \n",
       "4  I am getting crazy in order to get this... Do ...  1.585607e+09  "
      ]
     },
     "execution_count": 5,
     "metadata": {},
     "output_type": "execute_result"
    }
   ],
   "source": [
    "print(\"Data for subreddit 'emacs'\")\n",
    "df_emacs.head()"
   ]
  },
  {
   "cell_type": "code",
   "execution_count": 6,
   "metadata": {},
   "outputs": [
    {
     "name": "stdout",
     "output_type": "stream",
     "text": [
      "Data for subreddit 'vim'\n"
     ]
    },
    {
     "data": {
      "text/html": [
       "<div>\n",
       "<style scoped>\n",
       "    .dataframe tbody tr th:only-of-type {\n",
       "        vertical-align: middle;\n",
       "    }\n",
       "\n",
       "    .dataframe tbody tr th {\n",
       "        vertical-align: top;\n",
       "    }\n",
       "\n",
       "    .dataframe thead th {\n",
       "        text-align: right;\n",
       "    }\n",
       "</style>\n",
       "<table border=\"1\" class=\"dataframe\">\n",
       "  <thead>\n",
       "    <tr style=\"text-align: right;\">\n",
       "      <th></th>\n",
       "      <th>author</th>\n",
       "      <th>title</th>\n",
       "      <th>upvote_ratio</th>\n",
       "      <th>is_original_content</th>\n",
       "      <th>edited</th>\n",
       "      <th>score</th>\n",
       "      <th>id</th>\n",
       "      <th>subreddit</th>\n",
       "      <th>url</th>\n",
       "      <th>num_comments</th>\n",
       "      <th>body</th>\n",
       "      <th>created</th>\n",
       "    </tr>\n",
       "  </thead>\n",
       "  <tbody>\n",
       "    <tr>\n",
       "      <th>0</th>\n",
       "      <td>justrajdeep</td>\n",
       "      <td>Titlestring format</td>\n",
       "      <td>0.67</td>\n",
       "      <td>False</td>\n",
       "      <td>False</td>\n",
       "      <td>1</td>\n",
       "      <td>fruugj</td>\n",
       "      <td>vim</td>\n",
       "      <td>https://www.reddit.com/r/vim/comments/fruugj/t...</td>\n",
       "      <td>1</td>\n",
       "      <td>Hi Vimmers\\n\\nCan someone please explain me ho...</td>\n",
       "      <td>1.585617e+09</td>\n",
       "    </tr>\n",
       "    <tr>\n",
       "      <th>1</th>\n",
       "      <td>justrajdeep</td>\n",
       "      <td>A Few Vim Plugins That Have Impressed Me Recently</td>\n",
       "      <td>0.42</td>\n",
       "      <td>False</td>\n",
       "      <td>False</td>\n",
       "      <td>0</td>\n",
       "      <td>frurk2</td>\n",
       "      <td>vim</td>\n",
       "      <td>https://www.youtube.com/watch?v=RGOsE3UWqhI</td>\n",
       "      <td>4</td>\n",
       "      <td>NaN</td>\n",
       "      <td>1.585617e+09</td>\n",
       "    </tr>\n",
       "    <tr>\n",
       "      <th>2</th>\n",
       "      <td>mugnozzo</td>\n",
       "      <td>Why I switched from Emacs to Vi(m)</td>\n",
       "      <td>0.83</td>\n",
       "      <td>False</td>\n",
       "      <td>False</td>\n",
       "      <td>11</td>\n",
       "      <td>frsghk</td>\n",
       "      <td>vim</td>\n",
       "      <td>https://www.reddit.com/r/vim/comments/frsghk/w...</td>\n",
       "      <td>24</td>\n",
       "      <td>First of all: I've never taken part in the Vi(...</td>\n",
       "      <td>1.585610e+09</td>\n",
       "    </tr>\n",
       "    <tr>\n",
       "      <th>3</th>\n",
       "      <td>PresentPickleNinja</td>\n",
       "      <td>iI've gotten to the point where muscle memory ...</td>\n",
       "      <td>0.94</td>\n",
       "      <td>False</td>\n",
       "      <td>False</td>\n",
       "      <td>334</td>\n",
       "      <td>frqmx2</td>\n",
       "      <td>vim</td>\n",
       "      <td>https://www.reddit.com/r/vim/comments/frqmx2/i...</td>\n",
       "      <td>103</td>\n",
       "      <td>iI'm not kidding. It's becoming a problem.:wq</td>\n",
       "      <td>1.585603e+09</td>\n",
       "    </tr>\n",
       "    <tr>\n",
       "      <th>4</th>\n",
       "      <td>pouponne</td>\n",
       "      <td>For your best shopping experiences</td>\n",
       "      <td>1.00</td>\n",
       "      <td>False</td>\n",
       "      <td>False</td>\n",
       "      <td>1</td>\n",
       "      <td>frq7lp</td>\n",
       "      <td>vim</td>\n",
       "      <td>https://www.reddit.com/r/vim/comments/frq7lp/f...</td>\n",
       "      <td>1</td>\n",
       "      <td>[removed]</td>\n",
       "      <td>1.585601e+09</td>\n",
       "    </tr>\n",
       "  </tbody>\n",
       "</table>\n",
       "</div>"
      ],
      "text/plain": [
       "               author                                              title  \\\n",
       "0         justrajdeep                                 Titlestring format   \n",
       "1         justrajdeep  A Few Vim Plugins That Have Impressed Me Recently   \n",
       "2            mugnozzo                 Why I switched from Emacs to Vi(m)   \n",
       "3  PresentPickleNinja  iI've gotten to the point where muscle memory ...   \n",
       "4            pouponne                 For your best shopping experiences   \n",
       "\n",
       "   upvote_ratio  is_original_content edited  score      id subreddit  \\\n",
       "0          0.67                False  False      1  fruugj       vim   \n",
       "1          0.42                False  False      0  frurk2       vim   \n",
       "2          0.83                False  False     11  frsghk       vim   \n",
       "3          0.94                False  False    334  frqmx2       vim   \n",
       "4          1.00                False  False      1  frq7lp       vim   \n",
       "\n",
       "                                                 url  num_comments  \\\n",
       "0  https://www.reddit.com/r/vim/comments/fruugj/t...             1   \n",
       "1        https://www.youtube.com/watch?v=RGOsE3UWqhI             4   \n",
       "2  https://www.reddit.com/r/vim/comments/frsghk/w...            24   \n",
       "3  https://www.reddit.com/r/vim/comments/frqmx2/i...           103   \n",
       "4  https://www.reddit.com/r/vim/comments/frq7lp/f...             1   \n",
       "\n",
       "                                                body       created  \n",
       "0  Hi Vimmers\\n\\nCan someone please explain me ho...  1.585617e+09  \n",
       "1                                                NaN  1.585617e+09  \n",
       "2  First of all: I've never taken part in the Vi(...  1.585610e+09  \n",
       "3      iI'm not kidding. It's becoming a problem.:wq  1.585603e+09  \n",
       "4                                          [removed]  1.585601e+09  "
      ]
     },
     "execution_count": 6,
     "metadata": {},
     "output_type": "execute_result"
    }
   ],
   "source": [
    "print(\"Data for subreddit 'vim'\")\n",
    "df_vim.head()"
   ]
  },
  {
   "cell_type": "code",
   "execution_count": 7,
   "metadata": {},
   "outputs": [
    {
     "name": "stdout",
     "output_type": "stream",
     "text": [
      "Length of Data (emacs) : 1330\n",
      "Length of Data (vim) : 1104\n"
     ]
    },
    {
     "data": {
      "image/png": "[encoded data removed]",
      "text/plain": [
       "<Figure size 288x360 with 1 Axes>"
      ]
     },
     "metadata": {
      "needs_background": "light"
     },
     "output_type": "display_data"
    }
   ],
   "source": [
    "print(\"Length of Data (emacs) : \" + str(len(df_emacs)))\n",
    "print(\"Length of Data (vim) : \" + str(len(df_vim)))\n",
    "\n",
    "data = [['emacs', len(df_emacs)], ['vim', len(df_vim)]] \n",
    "df = pd.DataFrame(data, columns = ['subreddit', 'data_count'])\n",
    "\n",
    "# Plotting number of posts in subreddits emacs and vim \n",
    "\n",
    "plt.figure(figsize=(4,5))\n",
    "ax = sns.barplot(x=\"subreddit\", y=\"data_count\", data=df, palette=\"deep\").set_title(\"Subreddits vs Number of Posts\")"
   ]
  },
  {
   "cell_type": "code",
   "execution_count": 8,
   "metadata": {},
   "outputs": [
    {
     "name": "stdout",
     "output_type": "stream",
     "text": [
      "Number of Distinct Authors in 'emacs' : 671\n",
      "Number of Distinct Authors in 'vim'   : 637\n"
     ]
    },
    {
     "data": {
      "image/png": "[encoded data removed]",
      "text/plain": [
       "<Figure size 288x360 with 1 Axes>"
      ]
     },
     "metadata": {
      "needs_background": "light"
     },
     "output_type": "display_data"
    }
   ],
   "source": [
    "print(\"Number of Distinct Authors in 'emacs' : \" + str(df_emacs['author'].nunique()))\n",
    "print(\"Number of Distinct Authors in 'vim'   : \" + str(df_vim['author'].nunique()))\n",
    "\n",
    "data = [['emacs', df_emacs['author'].nunique()], ['vim', df_vim['author'].nunique()]] \n",
    "df = pd.DataFrame(data, columns = ['subreddit', 'Unique Authors'])\n",
    "\n",
    "# Plotting number of posts in subreddits emacs and vim \n",
    "\n",
    "from matplotlib import pyplot as plt\n",
    "import seaborn as sns\n",
    "\n",
    "plt.figure(figsize=(4,5))\n",
    "ax = sns.barplot(x=\"subreddit\", y=\"Unique Authors\", data=df).set_title(\"Subreddits vs Number of Unique Authors\")"
   ]
  },
  {
   "cell_type": "code",
   "execution_count": 9,
   "metadata": {},
   "outputs": [
    {
     "name": "stdout",
     "output_type": "stream",
     "text": [
      "Highest number of comments on emacs posts : 170\n"
     ]
    },
    {
     "data": {
      "text/plain": [
       "Text(0.5, 1.0, 'EMACS - Distribution of comments')"
      ]
     },
     "execution_count": 9,
     "metadata": {},
     "output_type": "execute_result"
    },
    {
     "data": {
      "image/png": "[encoded data removed]",
      "text/plain": [
       "<Figure size 1080x360 with 1 Axes>"
      ]
     },
     "metadata": {
      "needs_background": "light"
     },
     "output_type": "display_data"
    }
   ],
   "source": [
    "# Comments distribution in emacs subreddit\n",
    "\n",
    "print(\"Highest number of comments on emacs posts : \" + str(max(df_emacs['num_comments'])))\n",
    "\n",
    "plt.figure(figsize=(15,5))\n",
    "sns.histplot(data=df_emacs, x=\"num_comments\").set_title(\"EMACS - Distribution of comments\")"
   ]
  },
  {
   "cell_type": "code",
   "execution_count": 10,
   "metadata": {},
   "outputs": [
    {
     "name": "stdout",
     "output_type": "stream",
     "text": [
      "Highest number of comments on vim Posts : 195\n"
     ]
    },
    {
     "data": {
      "text/plain": [
       "Text(0.5, 1.0, 'VIM - Distribution of comments')"
      ]
     },
     "execution_count": 10,
     "metadata": {},
     "output_type": "execute_result"
    },
    {
     "data": {
      "image/png": "[encoded data removed]",
      "text/plain": [
       "<Figure size 1080x360 with 1 Axes>"
      ]
     },
     "metadata": {
      "needs_background": "light"
     },
     "output_type": "display_data"
    }
   ],
   "source": [
    "# Comments distribution in vim subreddit\n",
    "\n",
    "print(\"Highest number of comments on vim Posts : \" + str(max(df_vim['num_comments'])))\n",
    "\n",
    "plt.figure(figsize=(15,5))\n",
    "sns.histplot(data=df_vim, x=\"num_comments\").set_title(\"VIM - Distribution of comments\")"
   ]
  },
  {
   "cell_type": "code",
   "execution_count": 11,
   "metadata": {
    "scrolled": true
   },
   "outputs": [
    {
     "data": {
      "text/plain": [
       "Text(0.5, 1.0, 'EMACS - Distribution of Score')"
      ]
     },
     "execution_count": 11,
     "metadata": {},
     "output_type": "execute_result"
    },
    {
     "data": {
      "image/png": "[encoded data removed]",
      "text/plain": [
       "<Figure size 1080x360 with 1 Axes>"
      ]
     },
     "metadata": {
      "needs_background": "light"
     },
     "output_type": "display_data"
    }
   ],
   "source": [
    "# Score distribution in emacs subreddit\n",
    "\n",
    "\n",
    "plt.figure(figsize=(15,5))\n",
    "sns.histplot(data=df_emacs, x=\"score\").set_title(\"EMACS - Distribution of Score\")"
   ]
  },
  {
   "cell_type": "code",
   "execution_count": 12,
   "metadata": {},
   "outputs": [
    {
     "name": "stdout",
     "output_type": "stream",
     "text": [
      "Highest number of score on VIM posts : 1253\n"
     ]
    },
    {
     "data": {
      "text/plain": [
       "Text(0.5, 1.0, 'VIM - Distribution of Score')"
      ]
     },
     "execution_count": 12,
     "metadata": {},
     "output_type": "execute_result"
    },
    {
     "data": {
      "image/png": "[encoded data removed]",
      "text/plain": [
       "<Figure size 1800x720 with 1 Axes>"
      ]
     },
     "metadata": {
      "needs_background": "light"
     },
     "output_type": "display_data"
    }
   ],
   "source": [
    "# Score distribution in Vim subreddit\n",
    "\n",
    "print(\"Highest number of score on VIM posts : \" + str(max(df_vim['score'])))\n",
    "\n",
    "plt.figure(figsize=(25,10))\n",
    "sns.histplot(data=df_vim, x=\"score\").set_title(\"VIM - Distribution of Score\")"
   ]
  },
  {
   "cell_type": "code",
   "execution_count": 13,
   "metadata": {},
   "outputs": [
    {
     "name": "stderr",
     "output_type": "stream",
     "text": [
      "<ipython-input-13-8c7d54a90868>:5: SettingWithCopyWarning: \n",
      "A value is trying to be set on a copy of a slice from a DataFrame\n",
      "\n",
      "See the caveats in the documentation: https://pandas.pydata.org/pandas-docs/stable/user_guide/indexing.html#returning-a-view-versus-a-copy\n",
      "  df_emacs['edited'][num] = 'True'\n",
      "<ipython-input-13-8c7d54a90868>:9: SettingWithCopyWarning: \n",
      "A value is trying to be set on a copy of a slice from a DataFrame\n",
      "\n",
      "See the caveats in the documentation: https://pandas.pydata.org/pandas-docs/stable/user_guide/indexing.html#returning-a-view-versus-a-copy\n",
      "  df_vim['edited'][num] = 'True'\n"
     ]
    }
   ],
   "source": [
    "# Replacing not false values in coloumn 'edited' with \"True\"\n",
    "\n",
    "for num in range(len(df_emacs['edited'])):\n",
    "    if df_emacs['edited'][num] != 'False':\n",
    "        df_emacs['edited'][num] = 'True'\n",
    "        \n",
    "for num in range(len(df_vim['edited'])):\n",
    "    if df_vim['edited'][num] != 'False':\n",
    "        df_vim['edited'][num] = 'True'"
   ]
  },
  {
   "cell_type": "code",
   "execution_count": 14,
   "metadata": {},
   "outputs": [],
   "source": [
    "data = [['emacs',df_emacs.loc[df_emacs.edited == 'True', 'edited'].count(), df_emacs.loc[df_emacs.edited == 'False', 'edited'].count()], ['vim', df_vim.loc[df_vim.edited == 'True', 'edited'].count(), df_vim.loc[df_vim.edited == 'False', 'edited'].count()]] \n",
    "df = pd.DataFrame(data, columns = ['subreddit', 'Edited Posts', 'Not Edited Posts'])"
   ]
  },
  {
   "cell_type": "code",
   "execution_count": 15,
   "metadata": {},
   "outputs": [
    {
     "data": {
      "text/plain": [
       "19.022556390977442"
      ]
     },
     "execution_count": 15,
     "metadata": {},
     "output_type": "execute_result"
    }
   ],
   "source": [
    "((df['Edited Posts'][0])/(df['Edited Posts'][0] + df['Not Edited Posts'][0]))*100"
   ]
  },
  {
   "cell_type": "code",
   "execution_count": 16,
   "metadata": {
    "scrolled": true
   },
   "outputs": [
    {
     "name": "stdout",
     "output_type": "stream",
     "text": [
      "EMACS - % of edited posts : 19.022556390977442\n",
      "VIM   - % of edited posts : 15.670289855072465\n"
     ]
    },
    {
     "data": {
      "text/plain": [
       "<matplotlib.legend.Legend at 0x3d198a5190>"
      ]
     },
     "execution_count": 16,
     "metadata": {},
     "output_type": "execute_result"
    },
    {
     "data": {
      "image/png": "[encoded data removed]",
      "text/plain": [
       "<Figure size 288x288 with 1 Axes>"
      ]
     },
     "metadata": {
      "needs_background": "light"
     },
     "output_type": "display_data"
    }
   ],
   "source": [
    "print(\"EMACS - % of edited posts : \" + str(((df['Edited Posts'][0])/(df['Edited Posts'][0] + df['Not Edited Posts'][0]))*100))\n",
    "print(\"VIM   - % of edited posts : \" + str(((df['Edited Posts'][1])/(df['Edited Posts'][1] + df['Not Edited Posts'][1]))*100))\n",
    "\n",
    "fig = plt.figure(figsize=(4,4))\n",
    "ax = fig.add_axes([0,0,1,1])\n",
    "ax.bar(['EMACS', 'VIM'], df['Edited Posts'], color='orange')\n",
    "ax.bar(['EMACS', 'VIM'], df['Not Edited Posts'], bottom=df['Edited Posts'], color='black')\n",
    "ax.set_ylabel('Number of Posts')\n",
    "ax.set_xlabel('Subreddit')\n",
    "ax.set_title('Activity check on posts')\n",
    "ax.legend(labels=['Edited Posts', 'Not Edited Posts'])"
   ]
  },
  {
   "cell_type": "code",
   "execution_count": 17,
   "metadata": {},
   "outputs": [
    {
     "name": "stdout",
     "output_type": "stream",
     "text": [
      "Average Upvote Ratio for EMACS : 0.9110601503759406\n",
      "Average Upvote Ratio for VIM   : 0.7522826086956524\n"
     ]
    }
   ],
   "source": [
    "# Average upvote ratio for 'emacs' subreddit\n",
    "emacs_avg_upvote_ratio = sum(df_emacs['upvote_ratio']) / len(df_emacs['upvote_ratio'])\n",
    "print(\"Average Upvote Ratio for EMACS : \" + str(emacs_avg_upvote_ratio))\n",
    "\n",
    "# Average upvote ratio for 'vim' subreddit\n",
    "vim_avg_upvote_ratio = sum(df_vim['upvote_ratio']) / len(df_vim['upvote_ratio'])\n",
    "print(\"Average Upvote Ratio for VIM   : \" + str(vim_avg_upvote_ratio))"
   ]
  },
  {
   "cell_type": "code",
   "execution_count": 18,
   "metadata": {},
   "outputs": [
    {
     "name": "stdout",
     "output_type": "stream",
     "text": [
      "Average Score for EMACS : 15.34812030075188\n",
      "Average Score for VIM   : 25.082427536231883\n"
     ]
    }
   ],
   "source": [
    "# Average score for 'emacs' subreddit\n",
    "emacs_avg_score = sum(df_emacs['score']) / len(df_emacs['score'])\n",
    "print(\"Average Score for EMACS : \" + str(emacs_avg_score))\n",
    "\n",
    "# Average score for 'vim' subreddit\n",
    "vim_avg_score = sum(df_vim['score']) / len(df_vim['score'])\n",
    "print(\"Average Score for VIM   : \" + str(vim_avg_score))"
   ]
  },
  {
   "cell_type": "code",
   "execution_count": 19,
   "metadata": {},
   "outputs": [],
   "source": [
    "num_to_month = {'01':'January', '02':'February', '03':'March', '04':'April', '06':'June', '07':'July', '08':'August', '09':'September', '10':'October', '11':'November', '12':'December'}\n",
    "\n",
    "# EMACS ------------------------------------\n",
    "\n",
    "month_created = []\n",
    "for num in range(len(df_emacs['created'])):\n",
    "    utc_date = df_emacs['created'][num]\n",
    "    month_created.append(num_to_month[str(arrow.get(utc_date).to('local').format())[5:7]])\n",
    "\n",
    "# Adding 'month_created' column to df_emacs\n",
    "df_emacs['month_created'] = month_created\n",
    "\n",
    "\n",
    "# Vim ---------------------------------------\n",
    "\n",
    "month_created = []\n",
    "for num in range(len(df_vim['created'])):\n",
    "    utc_date = df_vim['created'][num]\n",
    "    month_created.append(num_to_month[str(arrow.get(utc_date).to('local').format())[5:7]])\n",
    "\n",
    "# Adding 'month_created' column to df_emacs\n",
    "df_vim['month_created'] = month_created"
   ]
  },
  {
   "cell_type": "code",
   "execution_count": 20,
   "metadata": {},
   "outputs": [
    {
     "data": {
      "text/html": [
       "<div>\n",
       "<style scoped>\n",
       "    .dataframe tbody tr th:only-of-type {\n",
       "        vertical-align: middle;\n",
       "    }\n",
       "\n",
       "    .dataframe tbody tr th {\n",
       "        vertical-align: top;\n",
       "    }\n",
       "\n",
       "    .dataframe thead th {\n",
       "        text-align: right;\n",
       "    }\n",
       "</style>\n",
       "<table border=\"1\" class=\"dataframe\">\n",
       "  <thead>\n",
       "    <tr style=\"text-align: right;\">\n",
       "      <th></th>\n",
       "      <th>author</th>\n",
       "      <th>title</th>\n",
       "      <th>upvote_ratio</th>\n",
       "      <th>is_original_content</th>\n",
       "      <th>edited</th>\n",
       "      <th>score</th>\n",
       "      <th>id</th>\n",
       "      <th>subreddit</th>\n",
       "      <th>url</th>\n",
       "      <th>num_comments</th>\n",
       "      <th>body</th>\n",
       "      <th>created</th>\n",
       "      <th>month_created</th>\n",
       "    </tr>\n",
       "  </thead>\n",
       "  <tbody>\n",
       "    <tr>\n",
       "      <th>0</th>\n",
       "      <td>NaN</td>\n",
       "      <td>Is it possible to create vision boards on Emacs ?</td>\n",
       "      <td>1.00</td>\n",
       "      <td>False</td>\n",
       "      <td>False</td>\n",
       "      <td>12</td>\n",
       "      <td>frvy6n</td>\n",
       "      <td>emacs</td>\n",
       "      <td>https://www.reddit.com/r/emacs/comments/frvy6n...</td>\n",
       "      <td>12</td>\n",
       "      <td>[deleted]</td>\n",
       "      <td>1.585621e+09</td>\n",
       "      <td>March</td>\n",
       "    </tr>\n",
       "    <tr>\n",
       "      <th>1</th>\n",
       "      <td>Ayrat555</td>\n",
       "      <td>I wrote a post about org-habit that can be use...</td>\n",
       "      <td>0.96</td>\n",
       "      <td>False</td>\n",
       "      <td>False</td>\n",
       "      <td>20</td>\n",
       "      <td>frvtk3</td>\n",
       "      <td>emacs</td>\n",
       "      <td>https://www.badykov.com/common/2020/03/29/a-ma...</td>\n",
       "      <td>3</td>\n",
       "      <td>NaN</td>\n",
       "      <td>1.585620e+09</td>\n",
       "      <td>March</td>\n",
       "    </tr>\n",
       "    <tr>\n",
       "      <th>2</th>\n",
       "      <td>PriorOutcome</td>\n",
       "      <td>View Minecraft Worlds in Emacs</td>\n",
       "      <td>0.96</td>\n",
       "      <td>False</td>\n",
       "      <td>False</td>\n",
       "      <td>73</td>\n",
       "      <td>frvtjg</td>\n",
       "      <td>emacs</td>\n",
       "      <td>https://www.reddit.com/r/emacs/comments/frvtjg...</td>\n",
       "      <td>13</td>\n",
       "      <td>&amp;#x200B;\\n\\nhttps://preview.redd.it/y8w6lt7onu...</td>\n",
       "      <td>1.585620e+09</td>\n",
       "      <td>March</td>\n",
       "    </tr>\n",
       "    <tr>\n",
       "      <th>3</th>\n",
       "      <td>Hagge5</td>\n",
       "      <td>Getting rid of extraneous emacs bindings when ...</td>\n",
       "      <td>0.81</td>\n",
       "      <td>False</td>\n",
       "      <td>True</td>\n",
       "      <td>6</td>\n",
       "      <td>frrny3</td>\n",
       "      <td>emacs</td>\n",
       "      <td>https://www.reddit.com/r/emacs/comments/frrny3...</td>\n",
       "      <td>18</td>\n",
       "      <td>Hi,\\n\\nI'm attempting to learn evil-mode with ...</td>\n",
       "      <td>1.585607e+09</td>\n",
       "      <td>March</td>\n",
       "    </tr>\n",
       "    <tr>\n",
       "      <th>4</th>\n",
       "      <td>FormerAct</td>\n",
       "      <td>Effort estimate of parent header from subheaders</td>\n",
       "      <td>1.00</td>\n",
       "      <td>False</td>\n",
       "      <td>False</td>\n",
       "      <td>2</td>\n",
       "      <td>frrnd8</td>\n",
       "      <td>emacs</td>\n",
       "      <td>https://www.reddit.com/r/emacs/comments/frrnd8...</td>\n",
       "      <td>2</td>\n",
       "      <td>I am getting crazy in order to get this... Do ...</td>\n",
       "      <td>1.585607e+09</td>\n",
       "      <td>March</td>\n",
       "    </tr>\n",
       "  </tbody>\n",
       "</table>\n",
       "</div>"
      ],
      "text/plain": [
       "         author                                              title  \\\n",
       "0           NaN  Is it possible to create vision boards on Emacs ?   \n",
       "1      Ayrat555  I wrote a post about org-habit that can be use...   \n",
       "2  PriorOutcome                     View Minecraft Worlds in Emacs   \n",
       "3        Hagge5  Getting rid of extraneous emacs bindings when ...   \n",
       "4     FormerAct   Effort estimate of parent header from subheaders   \n",
       "\n",
       "   upvote_ratio  is_original_content edited  score      id subreddit  \\\n",
       "0          1.00                False  False     12  frvy6n     emacs   \n",
       "1          0.96                False  False     20  frvtk3     emacs   \n",
       "2          0.96                False  False     73  frvtjg     emacs   \n",
       "3          0.81                False   True      6  frrny3     emacs   \n",
       "4          1.00                False  False      2  frrnd8     emacs   \n",
       "\n",
       "                                                 url  num_comments  \\\n",
       "0  https://www.reddit.com/r/emacs/comments/frvy6n...            12   \n",
       "1  https://www.badykov.com/common/2020/03/29/a-ma...             3   \n",
       "2  https://www.reddit.com/r/emacs/comments/frvtjg...            13   \n",
       "3  https://www.reddit.com/r/emacs/comments/frrny3...            18   \n",
       "4  https://www.reddit.com/r/emacs/comments/frrnd8...             2   \n",
       "\n",
       "                                                body       created  \\\n",
       "0                                          [deleted]  1.585621e+09   \n",
       "1                                                NaN  1.585620e+09   \n",
       "2  &#x200B;\\n\\nhttps://preview.redd.it/y8w6lt7onu...  1.585620e+09   \n",
       "3  Hi,\\n\\nI'm attempting to learn evil-mode with ...  1.585607e+09   \n",
       "4  I am getting crazy in order to get this... Do ...  1.585607e+09   \n",
       "\n",
       "  month_created  \n",
       "0         March  \n",
       "1         March  \n",
       "2         March  \n",
       "3         March  \n",
       "4         March  "
      ]
     },
     "execution_count": 20,
     "metadata": {},
     "output_type": "execute_result"
    }
   ],
   "source": [
    "# df_emacs - updated dataframe\n",
    "\n",
    "df_emacs.head()"
   ]
  },
  {
   "cell_type": "code",
   "execution_count": 21,
   "metadata": {},
   "outputs": [
    {
     "data": {
      "text/html": [
       "<div>\n",
       "<style scoped>\n",
       "    .dataframe tbody tr th:only-of-type {\n",
       "        vertical-align: middle;\n",
       "    }\n",
       "\n",
       "    .dataframe tbody tr th {\n",
       "        vertical-align: top;\n",
       "    }\n",
       "\n",
       "    .dataframe thead th {\n",
       "        text-align: right;\n",
       "    }\n",
       "</style>\n",
       "<table border=\"1\" class=\"dataframe\">\n",
       "  <thead>\n",
       "    <tr style=\"text-align: right;\">\n",
       "      <th></th>\n",
       "      <th>author</th>\n",
       "      <th>title</th>\n",
       "      <th>upvote_ratio</th>\n",
       "      <th>is_original_content</th>\n",
       "      <th>edited</th>\n",
       "      <th>score</th>\n",
       "      <th>id</th>\n",
       "      <th>subreddit</th>\n",
       "      <th>url</th>\n",
       "      <th>num_comments</th>\n",
       "      <th>body</th>\n",
       "      <th>created</th>\n",
       "      <th>month_created</th>\n",
       "    </tr>\n",
       "  </thead>\n",
       "  <tbody>\n",
       "    <tr>\n",
       "      <th>0</th>\n",
       "      <td>justrajdeep</td>\n",
       "      <td>Titlestring format</td>\n",
       "      <td>0.67</td>\n",
       "      <td>False</td>\n",
       "      <td>False</td>\n",
       "      <td>1</td>\n",
       "      <td>fruugj</td>\n",
       "      <td>vim</td>\n",
       "      <td>https://www.reddit.com/r/vim/comments/fruugj/t...</td>\n",
       "      <td>1</td>\n",
       "      <td>Hi Vimmers\\n\\nCan someone please explain me ho...</td>\n",
       "      <td>1.585617e+09</td>\n",
       "      <td>March</td>\n",
       "    </tr>\n",
       "    <tr>\n",
       "      <th>1</th>\n",
       "      <td>justrajdeep</td>\n",
       "      <td>A Few Vim Plugins That Have Impressed Me Recently</td>\n",
       "      <td>0.42</td>\n",
       "      <td>False</td>\n",
       "      <td>False</td>\n",
       "      <td>0</td>\n",
       "      <td>frurk2</td>\n",
       "      <td>vim</td>\n",
       "      <td>https://www.youtube.com/watch?v=RGOsE3UWqhI</td>\n",
       "      <td>4</td>\n",
       "      <td>NaN</td>\n",
       "      <td>1.585617e+09</td>\n",
       "      <td>March</td>\n",
       "    </tr>\n",
       "    <tr>\n",
       "      <th>2</th>\n",
       "      <td>mugnozzo</td>\n",
       "      <td>Why I switched from Emacs to Vi(m)</td>\n",
       "      <td>0.83</td>\n",
       "      <td>False</td>\n",
       "      <td>False</td>\n",
       "      <td>11</td>\n",
       "      <td>frsghk</td>\n",
       "      <td>vim</td>\n",
       "      <td>https://www.reddit.com/r/vim/comments/frsghk/w...</td>\n",
       "      <td>24</td>\n",
       "      <td>First of all: I've never taken part in the Vi(...</td>\n",
       "      <td>1.585610e+09</td>\n",
       "      <td>March</td>\n",
       "    </tr>\n",
       "    <tr>\n",
       "      <th>3</th>\n",
       "      <td>PresentPickleNinja</td>\n",
       "      <td>iI've gotten to the point where muscle memory ...</td>\n",
       "      <td>0.94</td>\n",
       "      <td>False</td>\n",
       "      <td>False</td>\n",
       "      <td>334</td>\n",
       "      <td>frqmx2</td>\n",
       "      <td>vim</td>\n",
       "      <td>https://www.reddit.com/r/vim/comments/frqmx2/i...</td>\n",
       "      <td>103</td>\n",
       "      <td>iI'm not kidding. It's becoming a problem.:wq</td>\n",
       "      <td>1.585603e+09</td>\n",
       "      <td>March</td>\n",
       "    </tr>\n",
       "    <tr>\n",
       "      <th>4</th>\n",
       "      <td>pouponne</td>\n",
       "      <td>For your best shopping experiences</td>\n",
       "      <td>1.00</td>\n",
       "      <td>False</td>\n",
       "      <td>False</td>\n",
       "      <td>1</td>\n",
       "      <td>frq7lp</td>\n",
       "      <td>vim</td>\n",
       "      <td>https://www.reddit.com/r/vim/comments/frq7lp/f...</td>\n",
       "      <td>1</td>\n",
       "      <td>[removed]</td>\n",
       "      <td>1.585601e+09</td>\n",
       "      <td>March</td>\n",
       "    </tr>\n",
       "  </tbody>\n",
       "</table>\n",
       "</div>"
      ],
      "text/plain": [
       "               author                                              title  \\\n",
       "0         justrajdeep                                 Titlestring format   \n",
       "1         justrajdeep  A Few Vim Plugins That Have Impressed Me Recently   \n",
       "2            mugnozzo                 Why I switched from Emacs to Vi(m)   \n",
       "3  PresentPickleNinja  iI've gotten to the point where muscle memory ...   \n",
       "4            pouponne                 For your best shopping experiences   \n",
       "\n",
       "   upvote_ratio  is_original_content edited  score      id subreddit  \\\n",
       "0          0.67                False  False      1  fruugj       vim   \n",
       "1          0.42                False  False      0  frurk2       vim   \n",
       "2          0.83                False  False     11  frsghk       vim   \n",
       "3          0.94                False  False    334  frqmx2       vim   \n",
       "4          1.00                False  False      1  frq7lp       vim   \n",
       "\n",
       "                                                 url  num_comments  \\\n",
       "0  https://www.reddit.com/r/vim/comments/fruugj/t...             1   \n",
       "1        https://www.youtube.com/watch?v=RGOsE3UWqhI             4   \n",
       "2  https://www.reddit.com/r/vim/comments/frsghk/w...            24   \n",
       "3  https://www.reddit.com/r/vim/comments/frqmx2/i...           103   \n",
       "4  https://www.reddit.com/r/vim/comments/frq7lp/f...             1   \n",
       "\n",
       "                                                body       created  \\\n",
       "0  Hi Vimmers\\n\\nCan someone please explain me ho...  1.585617e+09   \n",
       "1                                                NaN  1.585617e+09   \n",
       "2  First of all: I've never taken part in the Vi(...  1.585610e+09   \n",
       "3      iI'm not kidding. It's becoming a problem.:wq  1.585603e+09   \n",
       "4                                          [removed]  1.585601e+09   \n",
       "\n",
       "  month_created  \n",
       "0         March  \n",
       "1         March  \n",
       "2         March  \n",
       "3         March  \n",
       "4         March  "
      ]
     },
     "execution_count": 21,
     "metadata": {},
     "output_type": "execute_result"
    }
   ],
   "source": [
    "# df_vim - updated dataframe\n",
    "\n",
    "df_vim.head()"
   ]
  },
  {
   "cell_type": "code",
   "execution_count": 22,
   "metadata": {},
   "outputs": [
    {
     "name": "stdout",
     "output_type": "stream",
     "text": [
      "EMACS - Number of Posts / Month : \n",
      "\n",
      "January     486\n",
      "March       433\n",
      "February    411\n",
      "Name: month_created, dtype: int64\n"
     ]
    },
    {
     "data": {
      "text/plain": [
       "array([<matplotlib.axes._subplots.AxesSubplot object at 0x0000003D19C82B20>],\n",
       "      dtype=object)"
      ]
     },
     "execution_count": 22,
     "metadata": {},
     "output_type": "execute_result"
    },
    {
     "data": {
      "image/png": "[encoded data removed]",
      "text/plain": [
       "<Figure size 792x432 with 1 Axes>"
      ]
     },
     "metadata": {},
     "output_type": "display_data"
    }
   ],
   "source": [
    "# Distribution of posts in r/emacs per month [jan-feb-march]\n",
    "\n",
    "print(\"EMACS - Number of Posts / Month : \\n\")\n",
    "print(df_emacs['month_created'].value_counts())\n",
    "\n",
    "df_emacs['month_created'].value_counts().to_frame().plot.pie(autopct=\"%.2f%%\", subplots=True, figsize=(11, 6))"
   ]
  },
  {
   "cell_type": "code",
   "execution_count": 23,
   "metadata": {},
   "outputs": [
    {
     "data": {
      "text/plain": [
       "February    411\n",
       "January     486\n",
       "March       433\n",
       "Name: month_created, dtype: int64"
      ]
     },
     "execution_count": 23,
     "metadata": {},
     "output_type": "execute_result"
    }
   ],
   "source": [
    "df_emacs['month_created'].value_counts().sort_index()"
   ]
  },
  {
   "cell_type": "code",
   "execution_count": 24,
   "metadata": {},
   "outputs": [
    {
     "name": "stdout",
     "output_type": "stream",
     "text": [
      "VIM - Number of Posts / Month : \n",
      "\n",
      "January     377\n",
      "March       376\n",
      "February    351\n",
      "Name: month_created, dtype: int64\n"
     ]
    },
    {
     "data": {
      "text/plain": [
       "array([<matplotlib.axes._subplots.AxesSubplot object at 0x0000003D19CC9A60>],\n",
       "      dtype=object)"
      ]
     },
     "execution_count": 24,
     "metadata": {},
     "output_type": "execute_result"
    },
    {
     "data": {
      "image/png": "[encoded data removed]",
      "text/plain": [
       "<Figure size 792x432 with 1 Axes>"
      ]
     },
     "metadata": {},
     "output_type": "display_data"
    }
   ],
   "source": [
    "# Distribution of posts in r/vim per month [jan-feb-march]\n",
    "\n",
    "print(\"VIM - Number of Posts / Month : \\n\")\n",
    "print(df_vim['month_created'].value_counts())\n",
    "\n",
    "df_vim['month_created'].value_counts().to_frame().plot.pie(autopct=\"%.2f%%\", subplots=True, figsize=(11, 6))"
   ]
  },
  {
   "cell_type": "code",
   "execution_count": 25,
   "metadata": {},
   "outputs": [
    {
     "data": {
      "text/plain": [
       "[377, 376, 351]"
      ]
     },
     "execution_count": 25,
     "metadata": {},
     "output_type": "execute_result"
    }
   ],
   "source": [
    "VIM = df_vim['month_created'].value_counts().tolist()\n",
    "#VIM['January']\n",
    "#VIM = VIM.reset_index(drop=True)\n",
    "#print(VIM['0'])\n",
    "VIM"
   ]
  },
  {
   "cell_type": "code",
   "execution_count": 26,
   "metadata": {},
   "outputs": [
    {
     "data": {
      "text/plain": [
       "Text(0.5, 1.0, 'Monthwise Comparision of Posts [emacs - vim]')"
      ]
     },
     "execution_count": 26,
     "metadata": {},
     "output_type": "execute_result"
    },
    {
     "data": {
      "image/png": "[encoded data removed]",
      "text/plain": [
       "<Figure size 864x576 with 1 Axes>"
      ]
     },
     "metadata": {
      "needs_background": "light"
     },
     "output_type": "display_data"
    }
   ],
   "source": [
    "barWidth = 0.25\n",
    "fig = plt.subplots(figsize =(12, 8))\n",
    "\n",
    "br1 = np.arange(3) \n",
    "br2 = [x + barWidth for x in br1] \n",
    "\n",
    "plt.bar(br1, df_emacs['month_created'].value_counts().tolist(), color ='orange', width = barWidth, \n",
    "        edgecolor ='grey', label ='EMACS') \n",
    "plt.bar(br2, df_vim['month_created'].value_counts().tolist(), color ='black', width = barWidth, \n",
    "        edgecolor ='grey', label ='VIM')\n",
    "\n",
    "plt.xlabel('Months', fontweight ='bold') \n",
    "plt.ylabel('Posts', fontweight ='bold') \n",
    "plt.xticks([r + barWidth - 0.125 for r in range(len(df_vim['month_created'].value_counts().tolist()))], \n",
    "           ['January', 'February', 'March'])\n",
    "plt.legend(labels=['EMACS', 'VIM']) \n",
    "plt.title(\"Monthwise Comparision of Posts [emacs - vim]\")"
   ]
  },
  {
   "cell_type": "code",
   "execution_count": 27,
   "metadata": {},
   "outputs": [
    {
     "name": "stdout",
     "output_type": "stream",
     "text": [
      "EMACS - Number of authors : 672\n",
      "VIM - Number of authors   : 638\n",
      "\n",
      "\n",
      "Common authors : \n",
      "yep808\n",
      "tldrthestoryofmylife\n",
      "asheq100\n",
      "ghostinzshell\n",
      "chrismg12\n",
      "aksh2161989\n",
      "ixlxixl\n",
      "sbay\n",
      "Shady980\n",
      "guguts\n",
      "Reasintper\n",
      "en3r0\n",
      "l33tpolymath\n",
      "kakiopolis\n",
      "Martinsos\n",
      "Godnyx117\n",
      "ellipticcode0\n",
      "eva_kuator\n",
      "speckz\n",
      "Oracolus\n",
      "RageCage64\n",
      "akulichevskiy\n",
      "joselitux\n",
      "\n",
      "Number of Common Authors : 23\n"
     ]
    }
   ],
   "source": [
    "#Checking if there are any common authors between emacs and vim\n",
    "\n",
    "emacs_authors = df_emacs['author'].unique()\n",
    "vim_authors = df_vim['author'].unique()\n",
    "\n",
    "print(\"EMACS - Number of authors : \" + str(len(emacs_authors)))\n",
    "print(\"VIM - Number of authors   : \" + str(len(vim_authors)) + \"\\n\\n\")\n",
    "\n",
    "cnt = 0\n",
    "print(\"Common authors : \")\n",
    "for author_name in emacs_authors:\n",
    "    if author_name in vim_authors:\n",
    "        cnt += 1\n",
    "        print(author_name)\n",
    "        \n",
    "print(\"\\nNumber of Common Authors : \" + str(cnt))"
   ]
  },
  {
   "cell_type": "code",
   "execution_count": 28,
   "metadata": {},
   "outputs": [
    {
     "name": "stdout",
     "output_type": "stream",
     "text": [
      "EMACS - Number of comments : 12375\n",
      "VIM - Number of comments   : 12084\n",
      "\n",
      "\n",
      "EMACS - Average comments : 9\n",
      "VIM - Average comments   : 10\n"
     ]
    }
   ],
   "source": [
    "# Counting the number of comments in each subreddit\n",
    "\n",
    "print(\"EMACS - Number of comments : \" + str(sum(df_emacs['num_comments'])))\n",
    "print(\"VIM - Number of comments   : \" + str(sum(df_vim['num_comments'])))\n",
    "\n",
    "# Average comments for each subreddit\n",
    "\n",
    "print(\"\\n\\nEMACS - Average comments : \" + str(sum(df_emacs['num_comments'])//len(df_emacs['num_comments'])))\n",
    "print(\"VIM - Average comments   : \" + str(sum(df_vim['num_comments'])//len(df_vim['num_comments'])))"
   ]
  }
 ],
 "metadata": {
  "kernelspec": {
   "display_name": "Python 3",
   "language": "python",
   "name": "python3"
  },
  "language_info": {
   "codemirror_mode": {
    "name": "ipython",
    "version": 3
   },
   "file_extension": ".py",
   "mimetype": "text/x-python",
   "name": "python",
   "nbconvert_exporter": "python",
   "pygments_lexer": "ipython3",
   "version": "3.8.3"
  }
 },
 "nbformat": 4,
 "nbformat_minor": 4
}
